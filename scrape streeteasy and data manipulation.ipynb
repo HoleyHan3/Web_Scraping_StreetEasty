{
 "cells": [
  {
   "cell_type": "markdown",
   "metadata": {},
   "source": [
    "## Scraping StreetEasy.com to analyze housing price in New York City "
   ]
  },
  {
   "cell_type": "markdown",
   "metadata": {},
   "source": [
    "My goal here is to collect housing prices for both rental and sale in New York city. I looked at three major real estate website including Trulia, Zillow, and StreetEasy. Comparing to the other two websites, StreetEasy gives the most information on the searching results page and the format of each listing is very consistent, which is great for the purpose of web-scraping.<br\\ >\n",
    "<a href=\"http://streeteasy.com/\">\n",
    "<img \"StreetEasy\" src=\"map/streetEasy_logo.jpg\" height=\"30px\" width=\"150px\"/></a><br\\ >\n",
    "\n",
    "Web scraping is done using the beautifulsoup package in Python. I created two functions that can loop through all the pages of searching results, and also empty strings to store results. Below are the steps I took to scrape StreetEasy:\n",
    "1. Analyzing the HTML page: HTML code of a web page can be viewed by right click and selecting 'Inspect'. This helps us identifying the HTML tags of the information to be scraped\n",
    "2. Making the soup!: It is important to select the correct parser for your data type. I used HTML parser.\n",
    "3. Navigating the parse tree and iterate through tags: once the soup is made, we have the HTML code in Python. We can then find our desired information by searching through HTML tags."
   ]
  },
  {
   "cell_type": "code",
   "execution_count": 1,
   "metadata": {
    "collapsed": false
   },
   "outputs": [],
   "source": [
    "def package_url_sale(page):\n",
    "    \"\"\"Creates a URL for sales based on the page number.\"\"\"\n",
    "    return 'http://streeteasy.com/for-sale/nyc?page=' + page"
   ]
  },
  {
   "cell_type": "code",
   "execution_count": 2,
   "metadata": {
    "collapsed": true
   },
   "outputs": [],
   "source": [
    "def package_url_rent(page):\n",
    "    \"\"\"Creates a URL for rentals based on the page number.\"\"\"\n",
    "    return 'http://streeteasy.com/for-rent/nyc?page=' + page"
   ]
  },
  {
   "cell_type": "code",
   "execution_count": 5,
   "metadata": {
    "collapsed": true
   },
   "outputs": [],
   "source": [
    "from bs4 import BeautifulSoup\n",
    "import pandas as pd\n",
    "import numpy as np\n",
    "from typing import List\n",
    "import requests\n",
    "import time\n",
    "\n",
    "\n",
    "#price=[]\n",
    "#where=[]\n",
    "#bed=[]\n",
    "#bath=[]\n",
    "#size=[]\n",
    "#monthly=[]\n",
    "#street=[]"
   ]
  },
  {
   "cell_type": "code",
   "execution_count": 12,
   "metadata": {
    "collapsed": false,
    "scrolled": false
   },
   "outputs": [
    {
     "name": "stderr",
     "output_type": "stream",
     "text": [
      "Scraping Pages:   0%|          | 0/1411 [00:00<?, ?it/s]"
     ]
    },
    {
     "name": "stdout",
     "output_type": "stream",
     "text": [
      "Request failed: 403 Client Error: Forbidden for url: https://streeteasy.com/for-rent/nyc?page=1\n",
      "done\n"
     ]
    },
    {
     "name": "stderr",
     "output_type": "stream",
     "text": [
      "\n"
     ]
    },
    {
     "data": {
      "text/html": [
       "<div>\n",
       "<style scoped>\n",
       "    .dataframe tbody tr th:only-of-type {\n",
       "        vertical-align: middle;\n",
       "    }\n",
       "\n",
       "    .dataframe tbody tr th {\n",
       "        vertical-align: top;\n",
       "    }\n",
       "\n",
       "    .dataframe thead th {\n",
       "        text-align: right;\n",
       "    }\n",
       "</style>\n",
       "<table border=\"1\" class=\"dataframe\">\n",
       "  <thead>\n",
       "    <tr style=\"text-align: right;\">\n",
       "      <th></th>\n",
       "      <th>street</th>\n",
       "      <th>price</th>\n",
       "      <th>where</th>\n",
       "      <th>bed</th>\n",
       "      <th>bath</th>\n",
       "      <th>size</th>\n",
       "      <th>furnished</th>\n",
       "    </tr>\n",
       "  </thead>\n",
       "  <tbody>\n",
       "  </tbody>\n",
       "</table>\n",
       "</div>"
      ],
      "text/plain": [
       "Empty DataFrame\n",
       "Columns: [street, price, where, bed, bath, size, furnished]\n",
       "Index: []"
      ]
     },
     "execution_count": 12,
     "metadata": {},
     "output_type": "execute_result"
    }
   ],
   "source": [
    "from tqdm import tqdm\n",
    "\n",
    "# Define session and configure it with headers and timeout\n",
    "s = requests.Session()\n",
    "s.headers.update({\n",
    "    'User-Agent': 'Mozilla/5.0 (Windows NT 10.0; Win64; x64) AppleWebKit/537.36 (KHTML, like Gecko) Chrome/58.0.3029.110 Safari/537.3',\n",
    "    'Accept': 'text/html,application/xhtml+xml,application/xml;q=0.9,image/webp,*/*;q=0.8',\n",
    "    'Accept-Language': 'en-US,en;q=0.5',\n",
    "    'Accept-Encoding': 'gzip, deflate, br',\n",
    "    'DNT': '1',\n",
    "    'X-Requested-With': 'XMLHttpRequest',\n",
    "    'Referer': 'http://www.google.com',\n",
    "    'X-Location': 'NYC',\n",
    "})\n",
    "s.timeout = (5, 5)  # Set timeout for connect and read\n",
    "\n",
    "def make_request(session, url):\n",
    "    try:\n",
    "        response = session.get(url)\n",
    "        response.raise_for_status()  # Raise HTTPError for bad responses\n",
    "        return response.content  # or response.text, depending on what you need\n",
    "    except requests.Timeout:\n",
    "        print(\"Request timed out.\")\n",
    "    except requests.RequestException as e:\n",
    "        print(f\"Request failed: {e}\")\n",
    "    return None\n",
    "\n",
    "def scrape_data() -> None:\n",
    "    \"\"\"Scrapes data from StreetEasy and populates price, where, bed, bath, size, and street lists.\"\"\"\n",
    "    price: List[str] = []\n",
    "    where: List[str] = []\n",
    "    bed: List[str] = []\n",
    "    bath: List[str] = []\n",
    "    size: List[str] = []\n",
    "    street: List[str] = []\n",
    "\n",
    "    # Define the total number of pages\n",
    "    total_pages = 1411\n",
    "\n",
    "    # Create a DataFrame outside the loop to avoid creating it in every iteration\n",
    "\n",
    "    data={'street':street,'price':price,'where':where,'bed':bed, 'bath':bath, 'size':size,'furnished':0}\n",
    "    \n",
    "    # Then, you can use this function in your scraping code like this:\n",
    "    # Create a tqdm progress bar for the loop\n",
    "    progress_bar = tqdm(range(1, total_pages + 1), desc=\"Scraping Pages\", position=0)\n",
    "\n",
    "    for x in progress_bar:\n",
    "        url = package_url_rent(str(x))\n",
    "        r = make_request(s, url)\n",
    "\n",
    "        # Continue with scraping using the response content\n",
    "        if r:\n",
    "            soup = BeautifulSoup(r, 'html.parser')\n",
    "            lst = soup.find_all(lambda tag: tag.has_attr('data-id'))\n",
    "            for i in range(len(lst)):\n",
    "                #price\n",
    "                if lst[i].find_all('span',{'class':'price'})==[]:\n",
    "                    price.append('')\n",
    "                else:\n",
    "                    price.append(lst[i].find_all('span',{'class':'price'})[0].string)\n",
    "                #where\n",
    "                length=len(lst[i].find_all('div',{'class':'details_info'}))\n",
    "                if(lst[i].find_all('div',{'class':'details_info'})[0].find_all('a',href=True)==[]):\n",
    "                    if(length==1):\n",
    "                        where.append('')\n",
    "                    else:\n",
    "                        if(lst[i].find_all('div',{'class':'details_info'})[1].find_all('a',href=True)==[]):\n",
    "                            where.append('')\n",
    "                        else:\n",
    "                            where.append(lst[i].find_all('div',{'class':'details_info'})[1].find_all('a',href=True)[0].string)\n",
    "                else:\n",
    "                    where.append(lst[i].find_all('div',{'class':'details_info'})[0].find_all('a',href=True)[0].string)\n",
    "                #bedroom\n",
    "                if(lst[i].find_all('span',{'class':'first_detail_cell'})==[]):\n",
    "                    bed.append('')\n",
    "                else:\n",
    "                    bed.append(lst[i].find_all('span',{'class':'first_detail_cell'})[0].string)\n",
    "                #bedroom\n",
    "                if(lst[i].find_all('span',{'class':'detail_cell'})==[]):\n",
    "                    bath.append('')\n",
    "                else:\n",
    "                    bath.append(lst[i].find_all('span',{'class':'detail_cell'})[0].string)\n",
    "                #size\n",
    "                if(lst[i].find_all('span',{'class':'last_detail_cell'})==[]):\n",
    "                    size.append('')\n",
    "                else:\n",
    "                    size.append(lst[i].find_all('span',{'class':'last_detail_cell'})[0].string)\n",
    "                #monthly rent\n",
    "                #monthly.append(lst[i].find_all('span',{'class':'monthly_payment'})[0].string)\n",
    "                #street\n",
    "                street.append(lst[i].find_all('div',{'class':'details-title'})[0].a.string)\n",
    "\n",
    "                # Update the progress bar description with the current page number\n",
    "                progress_bar.set_postfix(Page=f\"{x}/{total_pages}\")\n",
    "                progress_bar.refresh()  # Manually refresh the tqdm bar\n",
    "\n",
    "                # Add scraped data to the 'data' dictionary\n",
    "                data['street'] = street\n",
    "                data['price'] = price\n",
    "                data['where'] = where\n",
    "                data['bed'] = bed\n",
    "                data['bath'] = bath\n",
    "                data['size'] = size\n",
    "                data['furnished'] = [0] * len(street)\n",
    "                \n",
    "            time.sleep(12)             # Implement a rate limit (e.g., 1 request per 2 seconds)\n",
    "\n",
    "        progress_bar.close()         # Close the progress bar after processing all pages\n",
    "\n",
    "        df=pd.DataFrame(data)        # Create DataFrame after the loop\n",
    "            \n",
    "        print(\"done\")  # Print \"done\" outside the loop\n",
    "        return df\n",
    "            \n",
    " \n",
    "# Call the scraping function\n",
    "scrape_data()"
   ]
  },
  {
   "cell_type": "markdown",
   "metadata": {},
   "source": [
    "## Data Manipulation"
   ]
  },
  {
   "cell_type": "markdown",
   "metadata": {},
   "source": [
    "For some listings the information on number of bedroom, number of bathroom, and apartment size is incomplete or mixed up. I performed data manipulation to fix the mistaken values and clean up the extra symbols such as comma and dollar sign. <br\\ >\n",
    "Finally, I have two data sets containing the housing information for apartments for rent and apartments for sale. My for sale data set has 8,456 rows and 8 columns, and the for rent data set has 20,988 rows and 7 columns"
   ]
  },
  {
   "cell_type": "code",
   "execution_count": 8,
   "metadata": {
    "collapsed": false,
    "scrolled": true
   },
   "outputs": [
    {
     "ename": "NameError",
     "evalue": "name 'street' is not defined",
     "output_type": "error",
     "traceback": [
      "\u001b[0;31m---------------------------------------------------------------------------\u001b[0m",
      "\u001b[0;31mNameError\u001b[0m                                 Traceback (most recent call last)",
      "Cell \u001b[0;32mIn[8], line 3\u001b[0m\n\u001b[1;32m      1\u001b[0m \u001b[38;5;28;01mimport\u001b[39;00m \u001b[38;5;21;01mpandas\u001b[39;00m \u001b[38;5;28;01mas\u001b[39;00m \u001b[38;5;21;01mpd\u001b[39;00m\n\u001b[1;32m      2\u001b[0m \u001b[38;5;28;01mimport\u001b[39;00m \u001b[38;5;21;01mnumpy\u001b[39;00m \u001b[38;5;28;01mas\u001b[39;00m \u001b[38;5;21;01mnp\u001b[39;00m\n\u001b[0;32m----> 3\u001b[0m data\u001b[38;5;241m=\u001b[39m{\u001b[38;5;124m'\u001b[39m\u001b[38;5;124mstreet\u001b[39m\u001b[38;5;124m'\u001b[39m:\u001b[43mstreet\u001b[49m,\u001b[38;5;124m'\u001b[39m\u001b[38;5;124mprice\u001b[39m\u001b[38;5;124m'\u001b[39m:price,\u001b[38;5;124m'\u001b[39m\u001b[38;5;124mwhere\u001b[39m\u001b[38;5;124m'\u001b[39m:where,\u001b[38;5;124m'\u001b[39m\u001b[38;5;124mbed\u001b[39m\u001b[38;5;124m'\u001b[39m:bed, \u001b[38;5;124m'\u001b[39m\u001b[38;5;124mbath\u001b[39m\u001b[38;5;124m'\u001b[39m:bath, \u001b[38;5;124m'\u001b[39m\u001b[38;5;124msize\u001b[39m\u001b[38;5;124m'\u001b[39m:size,\u001b[38;5;124m'\u001b[39m\u001b[38;5;124mfurnished\u001b[39m\u001b[38;5;124m'\u001b[39m:\u001b[38;5;241m0\u001b[39m}\n\u001b[1;32m      4\u001b[0m data\u001b[38;5;241m=\u001b[39mpd\u001b[38;5;241m.\u001b[39mDataFrame(data)\n\u001b[1;32m      6\u001b[0m \u001b[38;5;66;03m#is the apartment furnished?\u001b[39;00m\n",
      "\u001b[0;31mNameError\u001b[0m: name 'street' is not defined"
     ]
    }
   ],
   "source": [
    "import pandas as pd\n",
    "import numpy as np\n",
    "\n",
    "\n",
    "#is the apartment furnished?\n",
    "cond=data['bed']=='Furnished'\n",
    "data.loc[cond,'furnished']=1\n",
    "data.loc[cond,'bed']=''\n",
    "\n",
    "#move from size to bath\n",
    "cond=[]\n",
    "for i in data['size']:\n",
    "    if(i==''):\n",
    "        cond.append(False)\n",
    "    else:\n",
    "        cond.append(i.split(\" \")[1] in ('bath','baths'))\n",
    "data.loc[cond,'bath']=data.loc[cond,'size'] \n",
    "data.loc[cond,'size']=''\n",
    "\n",
    "#move from bed to bath\n",
    "cond=[]\n",
    "for i in data['bed']:\n",
    "    if(i=='' or i=='Furnished' or i=='studio'):\n",
    "        cond.append(False)\n",
    "    else:\n",
    "        cond.append(i.split(\" \")[1] in ('bath','baths'))\n",
    "data.loc[cond,'bath']=data.loc[cond,'bed'] \n",
    "data.loc[cond,'bed']=''\n",
    "\n",
    "#move from bath to bed\n",
    "cond=[]\n",
    "for i in data['bath']:\n",
    "    if(i==''):\n",
    "        cond.append(False)\n",
    "    else:\n",
    "        if(len(i.split(\" \"))==1):\n",
    "            cond.append(True)\n",
    "        else:\n",
    "            if(i.split(\" \")[1] in ('bath','baths')):\n",
    "                cond.append(False)\n",
    "            else:\n",
    "                cond.append(True)\n",
    "data.loc[cond,'bed']=data.loc[cond,'bath'] \n",
    "data.loc[cond,'bath']=''\n",
    "\n",
    "#move from bed to size\n",
    "cond=[]\n",
    "for i in data['bed']:\n",
    "    if(i=='' or i=='studio'):\n",
    "        cond.append(False)\n",
    "    else:\n",
    "        if(i.split(\" \")[1] in ('bed','beds')):\n",
    "            cond.append(False)\n",
    "        else:\n",
    "            cond.append(True)\n",
    "data.loc[cond,'size']=data.loc[cond,'bed'] \n",
    "data.loc[cond,'bed']=''\n",
    "\n",
    "\n",
    "#replace blank with nan\n",
    "data=data.applymap(lambda x: np.nan if x=='' else x)\n",
    "\n",
    "#data\n",
    "data.to_csv('rent.csv',encoding='utf-8')"
   ]
  },
  {
   "cell_type": "code",
   "execution_count": null,
   "metadata": {
    "collapsed": true
   },
   "outputs": [],
   "source": [
    "#size to numeric\n",
    "cond=data['size'].isnull()\n",
    "for i in range(0,len(cond)):\n",
    "    if (not cond[i]):\n",
    "        data.loc[i,'size']=int(data['size'][i].split(\" \")[0].replace(',',''))\n",
    "#bath to numeric\n",
    "cond=data['bath'].isnull()\n",
    "for i in range(0,len(cond)):\n",
    "    if (not cond[i]):\n",
    "        data.loc[i,'bath']=float(data['bath'][i].split(\" \")[0].replace('+',''))\n",
    "#bed to numeric\n",
    "cond=data['bed'].isnull()\n",
    "data['bed']=data['bed'].replace('studio','0 bed')\n",
    "for i in range(0,len(cond)):\n",
    "    if (not cond[i]):\n",
    "        data.loc[i,'bed']=float(data['bed'][i].split(\" \")[0].replace(',','').replace('+',''))\n",
    "#remove dollar sign\n",
    "data['price']=[int(i.replace('$','').replace(',','')) for i in data['price']]\n",
    "\n",
    "data.to_csv('rent_2.csv')"
   ]
  }
 ],
 "metadata": {
  "kernelspec": {
   "display_name": "Python 3",
   "language": "python",
   "name": "python3"
  },
  "language_info": {
   "codemirror_mode": {
    "name": "ipython",
    "version": 3
   },
   "file_extension": ".py",
   "mimetype": "text/x-python",
   "name": "python",
   "nbconvert_exporter": "python",
   "pygments_lexer": "ipython3",
   "version": "3.11.7"
  }
 },
 "nbformat": 4,
 "nbformat_minor": 0
}
